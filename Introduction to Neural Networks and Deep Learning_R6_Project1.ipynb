{
 "cells": [
  {
   "cell_type": "markdown",
   "metadata": {},
   "source": [
    "# Introduction to Neural Networks and Deep Learning course."
   ]
  },
  {
   "cell_type": "markdown",
   "metadata": {},
   "source": [
    "# Given a Bank customer, can we build a classifier that can determine whether they will leave or not using Neural networks?\n",
    "\n",
    "The points distribution for this case is as follows:\n",
    "1. Read the dataset\n",
    "2. Drop the columns which are unique for all users like IDs (2.5 points)\n",
    "3. Distinguish the feature and target set (2.5 points)\n",
    "4. Divide the data set into train and test sets\n",
    "5. Normalize the train and test data (2.5 points)\n",
    "6. Initialize & build the model (10 points)\n",
    "7. Optimize the model (5 points)\n",
    "9. Predict the results using 0.5 as a threshold (5 points) \n",
    "10. Print the Accuracy score and confusion matrix (2.5 points)"
   ]
  },
  {
   "cell_type": "code",
   "execution_count": 7,
   "metadata": {},
   "outputs": [],
   "source": [
    "\n",
    "import tensorflow as tf\n",
    "import numpy as np\n",
    "\n",
    "\n",
    "import pandas as pd"
   ]
  },
  {
   "cell_type": "markdown",
   "metadata": {},
   "source": [
    "# 1. Read the dataset"
   ]
  },
  {
   "cell_type": "code",
   "execution_count": 9,
   "metadata": {},
   "outputs": [],
   "source": [
    "bank_data=pd.read_csv(\"bank.csv\")"
   ]
  },
  {
   "cell_type": "code",
   "execution_count": 10,
   "metadata": {},
   "outputs": [
    {
     "data": {
      "text/html": [
       "<div>\n",
       "<style scoped>\n",
       "    .dataframe tbody tr th:only-of-type {\n",
       "        vertical-align: middle;\n",
       "    }\n",
       "\n",
       "    .dataframe tbody tr th {\n",
       "        vertical-align: top;\n",
       "    }\n",
       "\n",
       "    .dataframe thead th {\n",
       "        text-align: right;\n",
       "    }\n",
       "</style>\n",
       "<table border=\"1\" class=\"dataframe\">\n",
       "  <thead>\n",
       "    <tr style=\"text-align: right;\">\n",
       "      <th></th>\n",
       "      <th>RowNumber</th>\n",
       "      <th>CustomerId</th>\n",
       "      <th>Surname</th>\n",
       "      <th>CreditScore</th>\n",
       "      <th>Geography</th>\n",
       "      <th>Gender</th>\n",
       "      <th>Age</th>\n",
       "      <th>Tenure</th>\n",
       "      <th>Balance</th>\n",
       "      <th>NumOfProducts</th>\n",
       "      <th>HasCrCard</th>\n",
       "      <th>IsActiveMember</th>\n",
       "      <th>EstimatedSalary</th>\n",
       "      <th>Exited</th>\n",
       "    </tr>\n",
       "  </thead>\n",
       "  <tbody>\n",
       "    <tr>\n",
       "      <th>0</th>\n",
       "      <td>1</td>\n",
       "      <td>15634602</td>\n",
       "      <td>Hargrave</td>\n",
       "      <td>619</td>\n",
       "      <td>France</td>\n",
       "      <td>Female</td>\n",
       "      <td>42</td>\n",
       "      <td>2</td>\n",
       "      <td>0.00</td>\n",
       "      <td>1</td>\n",
       "      <td>1</td>\n",
       "      <td>1</td>\n",
       "      <td>101348.88</td>\n",
       "      <td>1</td>\n",
       "    </tr>\n",
       "    <tr>\n",
       "      <th>1</th>\n",
       "      <td>2</td>\n",
       "      <td>15647311</td>\n",
       "      <td>Hill</td>\n",
       "      <td>608</td>\n",
       "      <td>Spain</td>\n",
       "      <td>Female</td>\n",
       "      <td>41</td>\n",
       "      <td>1</td>\n",
       "      <td>83807.86</td>\n",
       "      <td>1</td>\n",
       "      <td>0</td>\n",
       "      <td>1</td>\n",
       "      <td>112542.58</td>\n",
       "      <td>0</td>\n",
       "    </tr>\n",
       "    <tr>\n",
       "      <th>2</th>\n",
       "      <td>3</td>\n",
       "      <td>15619304</td>\n",
       "      <td>Onio</td>\n",
       "      <td>502</td>\n",
       "      <td>France</td>\n",
       "      <td>Female</td>\n",
       "      <td>42</td>\n",
       "      <td>8</td>\n",
       "      <td>159660.80</td>\n",
       "      <td>3</td>\n",
       "      <td>1</td>\n",
       "      <td>0</td>\n",
       "      <td>113931.57</td>\n",
       "      <td>1</td>\n",
       "    </tr>\n",
       "    <tr>\n",
       "      <th>3</th>\n",
       "      <td>4</td>\n",
       "      <td>15701354</td>\n",
       "      <td>Boni</td>\n",
       "      <td>699</td>\n",
       "      <td>France</td>\n",
       "      <td>Female</td>\n",
       "      <td>39</td>\n",
       "      <td>1</td>\n",
       "      <td>0.00</td>\n",
       "      <td>2</td>\n",
       "      <td>0</td>\n",
       "      <td>0</td>\n",
       "      <td>93826.63</td>\n",
       "      <td>0</td>\n",
       "    </tr>\n",
       "    <tr>\n",
       "      <th>4</th>\n",
       "      <td>5</td>\n",
       "      <td>15737888</td>\n",
       "      <td>Mitchell</td>\n",
       "      <td>850</td>\n",
       "      <td>Spain</td>\n",
       "      <td>Female</td>\n",
       "      <td>43</td>\n",
       "      <td>2</td>\n",
       "      <td>125510.82</td>\n",
       "      <td>1</td>\n",
       "      <td>1</td>\n",
       "      <td>1</td>\n",
       "      <td>79084.10</td>\n",
       "      <td>0</td>\n",
       "    </tr>\n",
       "  </tbody>\n",
       "</table>\n",
       "</div>"
      ],
      "text/plain": [
       "   RowNumber  CustomerId   Surname  CreditScore Geography  Gender  Age  \\\n",
       "0          1    15634602  Hargrave          619    France  Female   42   \n",
       "1          2    15647311      Hill          608     Spain  Female   41   \n",
       "2          3    15619304      Onio          502    France  Female   42   \n",
       "3          4    15701354      Boni          699    France  Female   39   \n",
       "4          5    15737888  Mitchell          850     Spain  Female   43   \n",
       "\n",
       "   Tenure    Balance  NumOfProducts  HasCrCard  IsActiveMember  \\\n",
       "0       2       0.00              1          1               1   \n",
       "1       1   83807.86              1          0               1   \n",
       "2       8  159660.80              3          1               0   \n",
       "3       1       0.00              2          0               0   \n",
       "4       2  125510.82              1          1               1   \n",
       "\n",
       "   EstimatedSalary  Exited  \n",
       "0        101348.88       1  \n",
       "1        112542.58       0  \n",
       "2        113931.57       1  \n",
       "3         93826.63       0  \n",
       "4         79084.10       0  "
      ]
     },
     "execution_count": 10,
     "metadata": {},
     "output_type": "execute_result"
    }
   ],
   "source": [
    "bank_data.head()"
   ]
  },
  {
   "cell_type": "code",
   "execution_count": 11,
   "metadata": {},
   "outputs": [
    {
     "data": {
      "text/plain": [
       "(10000, 14)"
      ]
     },
     "execution_count": 11,
     "metadata": {},
     "output_type": "execute_result"
    }
   ],
   "source": [
    "bank_data.shape"
   ]
  },
  {
   "cell_type": "code",
   "execution_count": 12,
   "metadata": {},
   "outputs": [
    {
     "name": "stdout",
     "output_type": "stream",
     "text": [
      "<class 'pandas.core.frame.DataFrame'>\n",
      "RangeIndex: 10000 entries, 0 to 9999\n",
      "Data columns (total 14 columns):\n",
      "RowNumber          10000 non-null int64\n",
      "CustomerId         10000 non-null int64\n",
      "Surname            10000 non-null object\n",
      "CreditScore        10000 non-null int64\n",
      "Geography          10000 non-null object\n",
      "Gender             10000 non-null object\n",
      "Age                10000 non-null int64\n",
      "Tenure             10000 non-null int64\n",
      "Balance            10000 non-null float64\n",
      "NumOfProducts      10000 non-null int64\n",
      "HasCrCard          10000 non-null int64\n",
      "IsActiveMember     10000 non-null int64\n",
      "EstimatedSalary    10000 non-null float64\n",
      "Exited             10000 non-null int64\n",
      "dtypes: float64(2), int64(9), object(3)\n",
      "memory usage: 1.1+ MB\n"
     ]
    }
   ],
   "source": [
    "bank_data.info()"
   ]
  },
  {
   "cell_type": "markdown",
   "metadata": {},
   "source": [
    "# Observations:\n",
    "\n",
    "We have 10000 rows and 14 features.\n",
    "\n",
    "Some of the features like Rownumber, CustomerId, Surname will not be useful for evaluation as they are unique for all users which does not describe any characteristics for our predictions. These features can be dropped.\n",
    "\n",
    "There are some features with object type. These features should be converted to category or Label encoding should be done before evaluation.\n",
    "\n",
    "The target feature Exited is of binary type (0 or 1)\n",
    "\n",
    "All the features have varied scale of measurement. Noramlization should be done before evaluation."
   ]
  },
  {
   "cell_type": "markdown",
   "metadata": {},
   "source": [
    "# 2. Drop the columns which are unique for all users like IDs (2.5 points)"
   ]
  },
  {
   "cell_type": "code",
   "execution_count": 13,
   "metadata": {},
   "outputs": [],
   "source": [
    "bank_data.drop(['RowNumber', 'CustomerId', 'Surname'], axis = 1, inplace = True)"
   ]
  },
  {
   "cell_type": "code",
   "execution_count": 14,
   "metadata": {},
   "outputs": [
    {
     "name": "stdout",
     "output_type": "stream",
     "text": [
      "Shape of the data:  (10000, 11)\n"
     ]
    },
    {
     "data": {
      "text/html": [
       "<div>\n",
       "<style scoped>\n",
       "    .dataframe tbody tr th:only-of-type {\n",
       "        vertical-align: middle;\n",
       "    }\n",
       "\n",
       "    .dataframe tbody tr th {\n",
       "        vertical-align: top;\n",
       "    }\n",
       "\n",
       "    .dataframe thead th {\n",
       "        text-align: right;\n",
       "    }\n",
       "</style>\n",
       "<table border=\"1\" class=\"dataframe\">\n",
       "  <thead>\n",
       "    <tr style=\"text-align: right;\">\n",
       "      <th></th>\n",
       "      <th>CreditScore</th>\n",
       "      <th>Geography</th>\n",
       "      <th>Gender</th>\n",
       "      <th>Age</th>\n",
       "      <th>Tenure</th>\n",
       "      <th>Balance</th>\n",
       "      <th>NumOfProducts</th>\n",
       "      <th>HasCrCard</th>\n",
       "      <th>IsActiveMember</th>\n",
       "      <th>EstimatedSalary</th>\n",
       "      <th>Exited</th>\n",
       "    </tr>\n",
       "  </thead>\n",
       "  <tbody>\n",
       "    <tr>\n",
       "      <th>0</th>\n",
       "      <td>619</td>\n",
       "      <td>France</td>\n",
       "      <td>Female</td>\n",
       "      <td>42</td>\n",
       "      <td>2</td>\n",
       "      <td>0.00</td>\n",
       "      <td>1</td>\n",
       "      <td>1</td>\n",
       "      <td>1</td>\n",
       "      <td>101348.88</td>\n",
       "      <td>1</td>\n",
       "    </tr>\n",
       "    <tr>\n",
       "      <th>1</th>\n",
       "      <td>608</td>\n",
       "      <td>Spain</td>\n",
       "      <td>Female</td>\n",
       "      <td>41</td>\n",
       "      <td>1</td>\n",
       "      <td>83807.86</td>\n",
       "      <td>1</td>\n",
       "      <td>0</td>\n",
       "      <td>1</td>\n",
       "      <td>112542.58</td>\n",
       "      <td>0</td>\n",
       "    </tr>\n",
       "    <tr>\n",
       "      <th>2</th>\n",
       "      <td>502</td>\n",
       "      <td>France</td>\n",
       "      <td>Female</td>\n",
       "      <td>42</td>\n",
       "      <td>8</td>\n",
       "      <td>159660.80</td>\n",
       "      <td>3</td>\n",
       "      <td>1</td>\n",
       "      <td>0</td>\n",
       "      <td>113931.57</td>\n",
       "      <td>1</td>\n",
       "    </tr>\n",
       "    <tr>\n",
       "      <th>3</th>\n",
       "      <td>699</td>\n",
       "      <td>France</td>\n",
       "      <td>Female</td>\n",
       "      <td>39</td>\n",
       "      <td>1</td>\n",
       "      <td>0.00</td>\n",
       "      <td>2</td>\n",
       "      <td>0</td>\n",
       "      <td>0</td>\n",
       "      <td>93826.63</td>\n",
       "      <td>0</td>\n",
       "    </tr>\n",
       "    <tr>\n",
       "      <th>4</th>\n",
       "      <td>850</td>\n",
       "      <td>Spain</td>\n",
       "      <td>Female</td>\n",
       "      <td>43</td>\n",
       "      <td>2</td>\n",
       "      <td>125510.82</td>\n",
       "      <td>1</td>\n",
       "      <td>1</td>\n",
       "      <td>1</td>\n",
       "      <td>79084.10</td>\n",
       "      <td>0</td>\n",
       "    </tr>\n",
       "  </tbody>\n",
       "</table>\n",
       "</div>"
      ],
      "text/plain": [
       "   CreditScore Geography  Gender  Age  Tenure    Balance  NumOfProducts  \\\n",
       "0          619    France  Female   42       2       0.00              1   \n",
       "1          608     Spain  Female   41       1   83807.86              1   \n",
       "2          502    France  Female   42       8  159660.80              3   \n",
       "3          699    France  Female   39       1       0.00              2   \n",
       "4          850     Spain  Female   43       2  125510.82              1   \n",
       "\n",
       "   HasCrCard  IsActiveMember  EstimatedSalary  Exited  \n",
       "0          1               1        101348.88       1  \n",
       "1          0               1        112542.58       0  \n",
       "2          1               0        113931.57       1  \n",
       "3          0               0         93826.63       0  \n",
       "4          1               1         79084.10       0  "
      ]
     },
     "execution_count": 14,
     "metadata": {},
     "output_type": "execute_result"
    }
   ],
   "source": [
    "print (\"Shape of the data: \",bank_data.shape)\n",
    "bank_data.head()"
   ]
  },
  {
   "cell_type": "code",
   "execution_count": 15,
   "metadata": {},
   "outputs": [],
   "source": [
    "# Lets convert the Geography and Gender to categorial.\n",
    "bank_data[\"Geography\"] = bank_data[\"Geography\"].astype('category')\n",
    "bank_data[\"Gender\"] = bank_data[\"Gender\"].astype('category')"
   ]
  },
  {
   "cell_type": "code",
   "execution_count": 16,
   "metadata": {},
   "outputs": [],
   "source": [
    "bank_data[\"Geography\"] = bank_data[\"Geography\"].cat.codes\n",
    "bank_data[\"Gender\"] = bank_data[\"Gender\"].cat.codes"
   ]
  },
  {
   "cell_type": "code",
   "execution_count": 17,
   "metadata": {},
   "outputs": [
    {
     "data": {
      "text/html": [
       "<div>\n",
       "<style scoped>\n",
       "    .dataframe tbody tr th:only-of-type {\n",
       "        vertical-align: middle;\n",
       "    }\n",
       "\n",
       "    .dataframe tbody tr th {\n",
       "        vertical-align: top;\n",
       "    }\n",
       "\n",
       "    .dataframe thead th {\n",
       "        text-align: right;\n",
       "    }\n",
       "</style>\n",
       "<table border=\"1\" class=\"dataframe\">\n",
       "  <thead>\n",
       "    <tr style=\"text-align: right;\">\n",
       "      <th></th>\n",
       "      <th>CreditScore</th>\n",
       "      <th>Geography</th>\n",
       "      <th>Gender</th>\n",
       "      <th>Age</th>\n",
       "      <th>Tenure</th>\n",
       "      <th>Balance</th>\n",
       "      <th>NumOfProducts</th>\n",
       "      <th>HasCrCard</th>\n",
       "      <th>IsActiveMember</th>\n",
       "      <th>EstimatedSalary</th>\n",
       "      <th>Exited</th>\n",
       "    </tr>\n",
       "  </thead>\n",
       "  <tbody>\n",
       "    <tr>\n",
       "      <th>0</th>\n",
       "      <td>619</td>\n",
       "      <td>0</td>\n",
       "      <td>0</td>\n",
       "      <td>42</td>\n",
       "      <td>2</td>\n",
       "      <td>0.00</td>\n",
       "      <td>1</td>\n",
       "      <td>1</td>\n",
       "      <td>1</td>\n",
       "      <td>101348.88</td>\n",
       "      <td>1</td>\n",
       "    </tr>\n",
       "    <tr>\n",
       "      <th>1</th>\n",
       "      <td>608</td>\n",
       "      <td>2</td>\n",
       "      <td>0</td>\n",
       "      <td>41</td>\n",
       "      <td>1</td>\n",
       "      <td>83807.86</td>\n",
       "      <td>1</td>\n",
       "      <td>0</td>\n",
       "      <td>1</td>\n",
       "      <td>112542.58</td>\n",
       "      <td>0</td>\n",
       "    </tr>\n",
       "    <tr>\n",
       "      <th>2</th>\n",
       "      <td>502</td>\n",
       "      <td>0</td>\n",
       "      <td>0</td>\n",
       "      <td>42</td>\n",
       "      <td>8</td>\n",
       "      <td>159660.80</td>\n",
       "      <td>3</td>\n",
       "      <td>1</td>\n",
       "      <td>0</td>\n",
       "      <td>113931.57</td>\n",
       "      <td>1</td>\n",
       "    </tr>\n",
       "    <tr>\n",
       "      <th>3</th>\n",
       "      <td>699</td>\n",
       "      <td>0</td>\n",
       "      <td>0</td>\n",
       "      <td>39</td>\n",
       "      <td>1</td>\n",
       "      <td>0.00</td>\n",
       "      <td>2</td>\n",
       "      <td>0</td>\n",
       "      <td>0</td>\n",
       "      <td>93826.63</td>\n",
       "      <td>0</td>\n",
       "    </tr>\n",
       "    <tr>\n",
       "      <th>4</th>\n",
       "      <td>850</td>\n",
       "      <td>2</td>\n",
       "      <td>0</td>\n",
       "      <td>43</td>\n",
       "      <td>2</td>\n",
       "      <td>125510.82</td>\n",
       "      <td>1</td>\n",
       "      <td>1</td>\n",
       "      <td>1</td>\n",
       "      <td>79084.10</td>\n",
       "      <td>0</td>\n",
       "    </tr>\n",
       "  </tbody>\n",
       "</table>\n",
       "</div>"
      ],
      "text/plain": [
       "   CreditScore  Geography  Gender  Age  Tenure    Balance  NumOfProducts  \\\n",
       "0          619          0       0   42       2       0.00              1   \n",
       "1          608          2       0   41       1   83807.86              1   \n",
       "2          502          0       0   42       8  159660.80              3   \n",
       "3          699          0       0   39       1       0.00              2   \n",
       "4          850          2       0   43       2  125510.82              1   \n",
       "\n",
       "   HasCrCard  IsActiveMember  EstimatedSalary  Exited  \n",
       "0          1               1        101348.88       1  \n",
       "1          0               1        112542.58       0  \n",
       "2          1               0        113931.57       1  \n",
       "3          0               0         93826.63       0  \n",
       "4          1               1         79084.10       0  "
      ]
     },
     "execution_count": 17,
     "metadata": {},
     "output_type": "execute_result"
    }
   ],
   "source": [
    "bank_data.head()"
   ]
  },
  {
   "cell_type": "code",
   "execution_count": 18,
   "metadata": {},
   "outputs": [
    {
     "name": "stdout",
     "output_type": "stream",
     "text": [
      "<class 'pandas.core.frame.DataFrame'>\n",
      "RangeIndex: 10000 entries, 0 to 9999\n",
      "Data columns (total 11 columns):\n",
      "CreditScore        10000 non-null int64\n",
      "Geography          10000 non-null int8\n",
      "Gender             10000 non-null int8\n",
      "Age                10000 non-null int64\n",
      "Tenure             10000 non-null int64\n",
      "Balance            10000 non-null float64\n",
      "NumOfProducts      10000 non-null int64\n",
      "HasCrCard          10000 non-null int64\n",
      "IsActiveMember     10000 non-null int64\n",
      "EstimatedSalary    10000 non-null float64\n",
      "Exited             10000 non-null int64\n",
      "dtypes: float64(2), int64(7), int8(2)\n",
      "memory usage: 722.7 KB\n"
     ]
    }
   ],
   "source": [
    "bank_data.info()"
   ]
  },
  {
   "cell_type": "markdown",
   "metadata": {},
   "source": [
    "# Observations:\n",
    "\n",
    "After dropping the irrelevant features, we are left with 10 features and a target.\n",
    "\n",
    "Also we have converted the Gender and Geography features to categorical codes."
   ]
  },
  {
   "cell_type": "markdown",
   "metadata": {},
   "source": [
    "# 3. Distinguish the feature and the target set (2.5 points)"
   ]
  },
  {
   "cell_type": "code",
   "execution_count": 19,
   "metadata": {},
   "outputs": [],
   "source": [
    "X = bank_data.iloc[:,:-1]\n",
    "y = bank_data.iloc[:,-1]\n"
   ]
  },
  {
   "cell_type": "code",
   "execution_count": 20,
   "metadata": {},
   "outputs": [
    {
     "data": {
      "text/html": [
       "<div>\n",
       "<style scoped>\n",
       "    .dataframe tbody tr th:only-of-type {\n",
       "        vertical-align: middle;\n",
       "    }\n",
       "\n",
       "    .dataframe tbody tr th {\n",
       "        vertical-align: top;\n",
       "    }\n",
       "\n",
       "    .dataframe thead th {\n",
       "        text-align: right;\n",
       "    }\n",
       "</style>\n",
       "<table border=\"1\" class=\"dataframe\">\n",
       "  <thead>\n",
       "    <tr style=\"text-align: right;\">\n",
       "      <th></th>\n",
       "      <th>CreditScore</th>\n",
       "      <th>Geography</th>\n",
       "      <th>Gender</th>\n",
       "      <th>Age</th>\n",
       "      <th>Tenure</th>\n",
       "      <th>Balance</th>\n",
       "      <th>NumOfProducts</th>\n",
       "      <th>HasCrCard</th>\n",
       "      <th>IsActiveMember</th>\n",
       "      <th>EstimatedSalary</th>\n",
       "    </tr>\n",
       "  </thead>\n",
       "  <tbody>\n",
       "    <tr>\n",
       "      <th>0</th>\n",
       "      <td>619</td>\n",
       "      <td>0</td>\n",
       "      <td>0</td>\n",
       "      <td>42</td>\n",
       "      <td>2</td>\n",
       "      <td>0.00</td>\n",
       "      <td>1</td>\n",
       "      <td>1</td>\n",
       "      <td>1</td>\n",
       "      <td>101348.88</td>\n",
       "    </tr>\n",
       "    <tr>\n",
       "      <th>1</th>\n",
       "      <td>608</td>\n",
       "      <td>2</td>\n",
       "      <td>0</td>\n",
       "      <td>41</td>\n",
       "      <td>1</td>\n",
       "      <td>83807.86</td>\n",
       "      <td>1</td>\n",
       "      <td>0</td>\n",
       "      <td>1</td>\n",
       "      <td>112542.58</td>\n",
       "    </tr>\n",
       "    <tr>\n",
       "      <th>2</th>\n",
       "      <td>502</td>\n",
       "      <td>0</td>\n",
       "      <td>0</td>\n",
       "      <td>42</td>\n",
       "      <td>8</td>\n",
       "      <td>159660.80</td>\n",
       "      <td>3</td>\n",
       "      <td>1</td>\n",
       "      <td>0</td>\n",
       "      <td>113931.57</td>\n",
       "    </tr>\n",
       "    <tr>\n",
       "      <th>3</th>\n",
       "      <td>699</td>\n",
       "      <td>0</td>\n",
       "      <td>0</td>\n",
       "      <td>39</td>\n",
       "      <td>1</td>\n",
       "      <td>0.00</td>\n",
       "      <td>2</td>\n",
       "      <td>0</td>\n",
       "      <td>0</td>\n",
       "      <td>93826.63</td>\n",
       "    </tr>\n",
       "    <tr>\n",
       "      <th>4</th>\n",
       "      <td>850</td>\n",
       "      <td>2</td>\n",
       "      <td>0</td>\n",
       "      <td>43</td>\n",
       "      <td>2</td>\n",
       "      <td>125510.82</td>\n",
       "      <td>1</td>\n",
       "      <td>1</td>\n",
       "      <td>1</td>\n",
       "      <td>79084.10</td>\n",
       "    </tr>\n",
       "  </tbody>\n",
       "</table>\n",
       "</div>"
      ],
      "text/plain": [
       "   CreditScore  Geography  Gender  Age  Tenure    Balance  NumOfProducts  \\\n",
       "0          619          0       0   42       2       0.00              1   \n",
       "1          608          2       0   41       1   83807.86              1   \n",
       "2          502          0       0   42       8  159660.80              3   \n",
       "3          699          0       0   39       1       0.00              2   \n",
       "4          850          2       0   43       2  125510.82              1   \n",
       "\n",
       "   HasCrCard  IsActiveMember  EstimatedSalary  \n",
       "0          1               1        101348.88  \n",
       "1          0               1        112542.58  \n",
       "2          1               0        113931.57  \n",
       "3          0               0         93826.63  \n",
       "4          1               1         79084.10  "
      ]
     },
     "execution_count": 20,
     "metadata": {},
     "output_type": "execute_result"
    }
   ],
   "source": [
    "X.head()"
   ]
  },
  {
   "cell_type": "code",
   "execution_count": 21,
   "metadata": {},
   "outputs": [
    {
     "data": {
      "text/plain": [
       "0    1\n",
       "1    0\n",
       "2    1\n",
       "3    0\n",
       "4    0\n",
       "Name: Exited, dtype: int64"
      ]
     },
     "execution_count": 21,
     "metadata": {},
     "output_type": "execute_result"
    }
   ],
   "source": [
    "y.head()"
   ]
  },
  {
   "cell_type": "markdown",
   "metadata": {},
   "source": [
    "# Observations:\n",
    "\n",
    "We have splitted the date to 10 features and a target.\n"
   ]
  },
  {
   "cell_type": "markdown",
   "metadata": {},
   "source": [
    "# 4. Divide the data set into Train and test sets."
   ]
  },
  {
   "cell_type": "code",
   "execution_count": 24,
   "metadata": {},
   "outputs": [],
   "source": [
    "from sklearn.model_selection import train_test_split\n",
    "\n",
    "X_train, X_test, y_train, y_test = train_test_split(X, y, test_size = 0.2, random_state = 7)"
   ]
  },
  {
   "cell_type": "code",
   "execution_count": 25,
   "metadata": {},
   "outputs": [
    {
     "name": "stdout",
     "output_type": "stream",
     "text": [
      "Shape:  (8000, 10)\n"
     ]
    },
    {
     "data": {
      "text/html": [
       "<div>\n",
       "<style scoped>\n",
       "    .dataframe tbody tr th:only-of-type {\n",
       "        vertical-align: middle;\n",
       "    }\n",
       "\n",
       "    .dataframe tbody tr th {\n",
       "        vertical-align: top;\n",
       "    }\n",
       "\n",
       "    .dataframe thead th {\n",
       "        text-align: right;\n",
       "    }\n",
       "</style>\n",
       "<table border=\"1\" class=\"dataframe\">\n",
       "  <thead>\n",
       "    <tr style=\"text-align: right;\">\n",
       "      <th></th>\n",
       "      <th>CreditScore</th>\n",
       "      <th>Geography</th>\n",
       "      <th>Gender</th>\n",
       "      <th>Age</th>\n",
       "      <th>Tenure</th>\n",
       "      <th>Balance</th>\n",
       "      <th>NumOfProducts</th>\n",
       "      <th>HasCrCard</th>\n",
       "      <th>IsActiveMember</th>\n",
       "      <th>EstimatedSalary</th>\n",
       "    </tr>\n",
       "  </thead>\n",
       "  <tbody>\n",
       "    <tr>\n",
       "      <th>4989</th>\n",
       "      <td>629</td>\n",
       "      <td>0</td>\n",
       "      <td>1</td>\n",
       "      <td>40</td>\n",
       "      <td>9</td>\n",
       "      <td>0.00</td>\n",
       "      <td>1</td>\n",
       "      <td>1</td>\n",
       "      <td>0</td>\n",
       "      <td>106.67</td>\n",
       "    </tr>\n",
       "    <tr>\n",
       "      <th>4498</th>\n",
       "      <td>570</td>\n",
       "      <td>0</td>\n",
       "      <td>1</td>\n",
       "      <td>30</td>\n",
       "      <td>2</td>\n",
       "      <td>131406.56</td>\n",
       "      <td>1</td>\n",
       "      <td>1</td>\n",
       "      <td>1</td>\n",
       "      <td>47952.45</td>\n",
       "    </tr>\n",
       "    <tr>\n",
       "      <th>8876</th>\n",
       "      <td>556</td>\n",
       "      <td>2</td>\n",
       "      <td>1</td>\n",
       "      <td>46</td>\n",
       "      <td>3</td>\n",
       "      <td>131764.96</td>\n",
       "      <td>1</td>\n",
       "      <td>1</td>\n",
       "      <td>1</td>\n",
       "      <td>108500.66</td>\n",
       "    </tr>\n",
       "    <tr>\n",
       "      <th>670</th>\n",
       "      <td>624</td>\n",
       "      <td>1</td>\n",
       "      <td>0</td>\n",
       "      <td>48</td>\n",
       "      <td>3</td>\n",
       "      <td>122388.38</td>\n",
       "      <td>2</td>\n",
       "      <td>0</td>\n",
       "      <td>0</td>\n",
       "      <td>30020.09</td>\n",
       "    </tr>\n",
       "    <tr>\n",
       "      <th>9552</th>\n",
       "      <td>664</td>\n",
       "      <td>0</td>\n",
       "      <td>0</td>\n",
       "      <td>41</td>\n",
       "      <td>5</td>\n",
       "      <td>0.00</td>\n",
       "      <td>1</td>\n",
       "      <td>1</td>\n",
       "      <td>1</td>\n",
       "      <td>152054.33</td>\n",
       "    </tr>\n",
       "  </tbody>\n",
       "</table>\n",
       "</div>"
      ],
      "text/plain": [
       "      CreditScore  Geography  Gender  Age  Tenure    Balance  NumOfProducts  \\\n",
       "4989          629          0       1   40       9       0.00              1   \n",
       "4498          570          0       1   30       2  131406.56              1   \n",
       "8876          556          2       1   46       3  131764.96              1   \n",
       "670           624          1       0   48       3  122388.38              2   \n",
       "9552          664          0       0   41       5       0.00              1   \n",
       "\n",
       "      HasCrCard  IsActiveMember  EstimatedSalary  \n",
       "4989          1               0           106.67  \n",
       "4498          1               1         47952.45  \n",
       "8876          1               1        108500.66  \n",
       "670           0               0         30020.09  \n",
       "9552          1               1        152054.33  "
      ]
     },
     "execution_count": 25,
     "metadata": {},
     "output_type": "execute_result"
    }
   ],
   "source": [
    "print (\"Shape: \", X_train.shape)\n",
    "X_train.head()"
   ]
  },
  {
   "cell_type": "code",
   "execution_count": 26,
   "metadata": {},
   "outputs": [
    {
     "name": "stdout",
     "output_type": "stream",
     "text": [
      "Shape:  (2000, 10)\n"
     ]
    },
    {
     "data": {
      "text/html": [
       "<div>\n",
       "<style scoped>\n",
       "    .dataframe tbody tr th:only-of-type {\n",
       "        vertical-align: middle;\n",
       "    }\n",
       "\n",
       "    .dataframe tbody tr th {\n",
       "        vertical-align: top;\n",
       "    }\n",
       "\n",
       "    .dataframe thead th {\n",
       "        text-align: right;\n",
       "    }\n",
       "</style>\n",
       "<table border=\"1\" class=\"dataframe\">\n",
       "  <thead>\n",
       "    <tr style=\"text-align: right;\">\n",
       "      <th></th>\n",
       "      <th>CreditScore</th>\n",
       "      <th>Geography</th>\n",
       "      <th>Gender</th>\n",
       "      <th>Age</th>\n",
       "      <th>Tenure</th>\n",
       "      <th>Balance</th>\n",
       "      <th>NumOfProducts</th>\n",
       "      <th>HasCrCard</th>\n",
       "      <th>IsActiveMember</th>\n",
       "      <th>EstimatedSalary</th>\n",
       "    </tr>\n",
       "  </thead>\n",
       "  <tbody>\n",
       "    <tr>\n",
       "      <th>1977</th>\n",
       "      <td>717</td>\n",
       "      <td>2</td>\n",
       "      <td>1</td>\n",
       "      <td>35</td>\n",
       "      <td>1</td>\n",
       "      <td>0.0</td>\n",
       "      <td>3</td>\n",
       "      <td>0</td>\n",
       "      <td>0</td>\n",
       "      <td>174770.14</td>\n",
       "    </tr>\n",
       "    <tr>\n",
       "      <th>3880</th>\n",
       "      <td>677</td>\n",
       "      <td>0</td>\n",
       "      <td>0</td>\n",
       "      <td>72</td>\n",
       "      <td>8</td>\n",
       "      <td>0.0</td>\n",
       "      <td>2</td>\n",
       "      <td>1</td>\n",
       "      <td>1</td>\n",
       "      <td>153604.44</td>\n",
       "    </tr>\n",
       "    <tr>\n",
       "      <th>52</th>\n",
       "      <td>788</td>\n",
       "      <td>0</td>\n",
       "      <td>0</td>\n",
       "      <td>33</td>\n",
       "      <td>5</td>\n",
       "      <td>0.0</td>\n",
       "      <td>2</td>\n",
       "      <td>0</td>\n",
       "      <td>0</td>\n",
       "      <td>116978.19</td>\n",
       "    </tr>\n",
       "    <tr>\n",
       "      <th>2551</th>\n",
       "      <td>537</td>\n",
       "      <td>0</td>\n",
       "      <td>0</td>\n",
       "      <td>53</td>\n",
       "      <td>3</td>\n",
       "      <td>0.0</td>\n",
       "      <td>1</td>\n",
       "      <td>1</td>\n",
       "      <td>1</td>\n",
       "      <td>91406.62</td>\n",
       "    </tr>\n",
       "    <tr>\n",
       "      <th>2246</th>\n",
       "      <td>717</td>\n",
       "      <td>2</td>\n",
       "      <td>0</td>\n",
       "      <td>39</td>\n",
       "      <td>6</td>\n",
       "      <td>0.0</td>\n",
       "      <td>2</td>\n",
       "      <td>1</td>\n",
       "      <td>0</td>\n",
       "      <td>93275.61</td>\n",
       "    </tr>\n",
       "  </tbody>\n",
       "</table>\n",
       "</div>"
      ],
      "text/plain": [
       "      CreditScore  Geography  Gender  Age  Tenure  Balance  NumOfProducts  \\\n",
       "1977          717          2       1   35       1      0.0              3   \n",
       "3880          677          0       0   72       8      0.0              2   \n",
       "52            788          0       0   33       5      0.0              2   \n",
       "2551          537          0       0   53       3      0.0              1   \n",
       "2246          717          2       0   39       6      0.0              2   \n",
       "\n",
       "      HasCrCard  IsActiveMember  EstimatedSalary  \n",
       "1977          0               0        174770.14  \n",
       "3880          1               1        153604.44  \n",
       "52            0               0        116978.19  \n",
       "2551          1               1         91406.62  \n",
       "2246          1               0         93275.61  "
      ]
     },
     "execution_count": 26,
     "metadata": {},
     "output_type": "execute_result"
    }
   ],
   "source": [
    "print (\"Shape: \", X_test.shape)\n",
    "X_test.head()"
   ]
  },
  {
   "cell_type": "code",
   "execution_count": 27,
   "metadata": {},
   "outputs": [
    {
     "name": "stdout",
     "output_type": "stream",
     "text": [
      "Shape:  (8000,)\n"
     ]
    },
    {
     "data": {
      "text/plain": [
       "4989    0\n",
       "4498    0\n",
       "8876    1\n",
       "670     0\n",
       "9552    0\n",
       "Name: Exited, dtype: int64"
      ]
     },
     "execution_count": 27,
     "metadata": {},
     "output_type": "execute_result"
    }
   ],
   "source": [
    "print (\"Shape: \", y_train.shape)\n",
    "y_train.head()"
   ]
  },
  {
   "cell_type": "code",
   "execution_count": 28,
   "metadata": {},
   "outputs": [
    {
     "name": "stdout",
     "output_type": "stream",
     "text": [
      "Shape:  (2000,)\n"
     ]
    },
    {
     "data": {
      "text/plain": [
       "1977    1\n",
       "3880    0\n",
       "52      0\n",
       "2551    0\n",
       "2246    0\n",
       "Name: Exited, dtype: int64"
      ]
     },
     "execution_count": 28,
     "metadata": {},
     "output_type": "execute_result"
    }
   ],
   "source": [
    "print (\"Shape: \", y_test.shape)\n",
    "y_test.head()"
   ]
  },
  {
   "cell_type": "code",
   "execution_count": 29,
   "metadata": {},
   "outputs": [
    {
     "name": "stdout",
     "output_type": "stream",
     "text": [
      "Unique train labels:  [0 1]\n"
     ]
    }
   ],
   "source": [
    "print (\"Unique train labels: \", np.unique(y_train))"
   ]
  },
  {
   "cell_type": "code",
   "execution_count": 30,
   "metadata": {},
   "outputs": [
    {
     "name": "stdout",
     "output_type": "stream",
     "text": [
      "Unique test labels:  [0 1]\n"
     ]
    }
   ],
   "source": [
    "print (\"Unique test labels: \", np.unique(y_test))"
   ]
  },
  {
   "cell_type": "markdown",
   "metadata": {},
   "source": [
    "# Observations:\n",
    "\n",
    "* Splitted the date into train (80%) and test (20%).. 8000 records and 10 features in train dataset and 2000 records and 10 features in test datase"
   ]
  },
  {
   "cell_type": "markdown",
   "metadata": {},
   "source": [
    "# 5. Normalize the train and test data (2.5 points)"
   ]
  },
  {
   "cell_type": "code",
   "execution_count": 31,
   "metadata": {},
   "outputs": [],
   "source": [
    "from scipy import stats\n",
    "\n",
    "X_train_std = stats.zscore(X_train) \n",
    "X_test_std = stats.zscore(X_test)"
   ]
  },
  {
   "cell_type": "code",
   "execution_count": 32,
   "metadata": {},
   "outputs": [],
   "source": [
    "y_train_cat = tf.keras.utils.to_categorical(y_train)\n",
    "y_test_cat = tf.keras.utils.to_categorical(y_test)"
   ]
  },
  {
   "cell_type": "code",
   "execution_count": 33,
   "metadata": {},
   "outputs": [
    {
     "data": {
      "text/plain": [
       "array([[1., 0.],\n",
       "       [1., 0.],\n",
       "       [0., 1.],\n",
       "       [1., 0.],\n",
       "       [1., 0.]], dtype=float32)"
      ]
     },
     "execution_count": 33,
     "metadata": {},
     "output_type": "execute_result"
    }
   ],
   "source": [
    "y_train_cat[:5]"
   ]
  },
  {
   "cell_type": "markdown",
   "metadata": {},
   "source": [
    "# Observations:\n",
    "\n",
    "As the dataset have varied scales, normalizing the data will yield better results.Used zscore to normalize the features and have converted both train and test labels into one-hot vectors"
   ]
  },
  {
   "cell_type": "markdown",
   "metadata": {},
   "source": [
    "# 6. Initialize & build the model (10 points)"
   ]
  },
  {
   "cell_type": "code",
   "execution_count": 37,
   "metadata": {},
   "outputs": [],
   "source": [
    "# Build a neural Network with a binary crossentropy loss function and sgd optimizer in Keras. The output layer with 1 neurons.\n",
    "\n",
    "#Initialize Sequential model\n",
    "model1 = tf.keras.models.Sequential()\n",
    "\n",
    "#Input Layer\n",
    "model1.add(tf.keras.layers.Dense(10, input_dim = 10, activation='relu'))\n",
    "\n",
    "#Add Dense Layer which provides 2 Output after applying sigmoid (Output Layer)\n",
    "model1.add(tf.keras.layers.Dense(2, activation='sigmoid'))\n",
    "\n",
    "#Compile the model\n",
    "model1.compile(optimizer='sgd', loss='binary_crossentropy', metrics=['accuracy'])"
   ]
  },
  {
   "cell_type": "markdown",
   "metadata": {},
   "source": [
    "# Execute the model"
   ]
  },
  {
   "cell_type": "code",
   "execution_count": 47,
   "metadata": {},
   "outputs": [
    {
     "name": "stdout",
     "output_type": "stream",
     "text": [
      "Train on 8000 samples, validate on 2000 samples\n",
      "Epoch 1/30\n",
      "8000/8000 [==============================] - 1s 107us/sample - loss: 0.3762 - accuracy: 0.8444 - val_loss: 0.3861 - val_accuracy: 0.8450\n",
      "Epoch 2/30\n",
      "8000/8000 [==============================] - 0s 42us/sample - loss: 0.3754 - accuracy: 0.8442 - val_loss: 0.3854 - val_accuracy: 0.8453\n",
      "Epoch 3/30\n",
      "8000/8000 [==============================] - 0s 42us/sample - loss: 0.3746 - accuracy: 0.8443 - val_loss: 0.3847 - val_accuracy: 0.8460\n",
      "Epoch 4/30\n",
      "8000/8000 [==============================] - 0s 43us/sample - loss: 0.3739 - accuracy: 0.8440 - val_loss: 0.3840 - val_accuracy: 0.8470\n",
      "Epoch 5/30\n",
      "8000/8000 [==============================] - 0s 42us/sample - loss: 0.3732 - accuracy: 0.8453 - val_loss: 0.3834 - val_accuracy: 0.8453\n",
      "Epoch 6/30\n",
      "8000/8000 [==============================] - 0s 42us/sample - loss: 0.3725 - accuracy: 0.8446 - val_loss: 0.3828 - val_accuracy: 0.8472\n",
      "Epoch 7/30\n",
      "8000/8000 [==============================] - 0s 42us/sample - loss: 0.3719 - accuracy: 0.8455 - val_loss: 0.3823 - val_accuracy: 0.8475\n",
      "Epoch 8/30\n",
      "8000/8000 [==============================] - 0s 53us/sample - loss: 0.3712 - accuracy: 0.8451 - val_loss: 0.3819 - val_accuracy: 0.8470\n",
      "Epoch 9/30\n",
      "8000/8000 [==============================] - 0s 45us/sample - loss: 0.3707 - accuracy: 0.8453 - val_loss: 0.3813 - val_accuracy: 0.8455\n",
      "Epoch 10/30\n",
      "8000/8000 [==============================] - 0s 57us/sample - loss: 0.3701 - accuracy: 0.8453 - val_loss: 0.3808 - val_accuracy: 0.8457\n",
      "Epoch 11/30\n",
      "8000/8000 [==============================] - 0s 55us/sample - loss: 0.3695 - accuracy: 0.8453 - val_loss: 0.3803 - val_accuracy: 0.8465\n",
      "Epoch 12/30\n",
      "8000/8000 [==============================] - 0s 42us/sample - loss: 0.3689 - accuracy: 0.8460 - val_loss: 0.3798 - val_accuracy: 0.8465\n",
      "Epoch 13/30\n",
      "8000/8000 [==============================] - 0s 40us/sample - loss: 0.3684 - accuracy: 0.8459 - val_loss: 0.3794 - val_accuracy: 0.8457\n",
      "Epoch 14/30\n",
      "8000/8000 [==============================] - 0s 41us/sample - loss: 0.3679 - accuracy: 0.8460 - val_loss: 0.3790 - val_accuracy: 0.8462\n",
      "Epoch 15/30\n",
      "8000/8000 [==============================] - 0s 43us/sample - loss: 0.3675 - accuracy: 0.8469 - val_loss: 0.3786 - val_accuracy: 0.8455\n",
      "Epoch 16/30\n",
      "8000/8000 [==============================] - 0s 41us/sample - loss: 0.3670 - accuracy: 0.8459 - val_loss: 0.3782 - val_accuracy: 0.8455\n",
      "Epoch 17/30\n",
      "8000/8000 [==============================] - 0s 42us/sample - loss: 0.3665 - accuracy: 0.8470 - val_loss: 0.3781 - val_accuracy: 0.8450\n",
      "Epoch 18/30\n",
      "8000/8000 [==============================] - 0s 43us/sample - loss: 0.3661 - accuracy: 0.8464 - val_loss: 0.3776 - val_accuracy: 0.8460\n",
      "Epoch 19/30\n",
      "8000/8000 [==============================] - 0s 42us/sample - loss: 0.3657 - accuracy: 0.8471 - val_loss: 0.3772 - val_accuracy: 0.8465\n",
      "Epoch 20/30\n",
      "8000/8000 [==============================] - 0s 42us/sample - loss: 0.3653 - accuracy: 0.8470 - val_loss: 0.3768 - val_accuracy: 0.8468\n",
      "Epoch 21/30\n",
      "8000/8000 [==============================] - 0s 42us/sample - loss: 0.3649 - accuracy: 0.8474 - val_loss: 0.3765 - val_accuracy: 0.8470\n",
      "Epoch 22/30\n",
      "8000/8000 [==============================] - 0s 43us/sample - loss: 0.3645 - accuracy: 0.8474 - val_loss: 0.3763 - val_accuracy: 0.8472\n",
      "Epoch 23/30\n",
      "8000/8000 [==============================] - 0s 42us/sample - loss: 0.3642 - accuracy: 0.8472 - val_loss: 0.3759 - val_accuracy: 0.8472\n",
      "Epoch 24/30\n",
      "8000/8000 [==============================] - 0s 42us/sample - loss: 0.3638 - accuracy: 0.8476 - val_loss: 0.3757 - val_accuracy: 0.8468\n",
      "Epoch 25/30\n",
      "8000/8000 [==============================] - 0s 42us/sample - loss: 0.3635 - accuracy: 0.8475 - val_loss: 0.3753 - val_accuracy: 0.8468\n",
      "Epoch 26/30\n",
      "8000/8000 [==============================] - 0s 42us/sample - loss: 0.3631 - accuracy: 0.8484 - val_loss: 0.3750 - val_accuracy: 0.8465\n",
      "Epoch 27/30\n",
      "8000/8000 [==============================] - 0s 42us/sample - loss: 0.3627 - accuracy: 0.8493 - val_loss: 0.3750 - val_accuracy: 0.8472\n",
      "Epoch 28/30\n",
      "8000/8000 [==============================] - 0s 42us/sample - loss: 0.3625 - accuracy: 0.8486 - val_loss: 0.3744 - val_accuracy: 0.8470\n",
      "Epoch 29/30\n",
      "8000/8000 [==============================] - 0s 43us/sample - loss: 0.3621 - accuracy: 0.8484 - val_loss: 0.3742 - val_accuracy: 0.8457\n",
      "Epoch 30/30\n",
      "8000/8000 [==============================] - 0s 42us/sample - loss: 0.3618 - accuracy: 0.8482 - val_loss: 0.3739 - val_accuracy: 0.8465\n"
     ]
    },
    {
     "data": {
      "text/plain": [
       "<tensorflow.python.keras.callbacks.History at 0x236cc5c4630>"
      ]
     },
     "execution_count": 47,
     "metadata": {},
     "output_type": "execute_result"
    }
   ],
   "source": [
    "model1.fit(X_train_std, y_train_cat, \n",
    "          validation_data=(X_test_std, y_test_cat), \n",
    "          epochs=30,\n",
    "          batch_size=35)"
   ]
  },
  {
   "cell_type": "code",
   "execution_count": 49,
   "metadata": {},
   "outputs": [
    {
     "name": "stdout",
     "output_type": "stream",
     "text": [
      "Model: \"sequential_1\"\n",
      "_________________________________________________________________\n",
      "Layer (type)                 Output Shape              Param #   \n",
      "=================================================================\n",
      "dense_4 (Dense)              (None, 10)                110       \n",
      "_________________________________________________________________\n",
      "dense_5 (Dense)              (None, 2)                 22        \n",
      "=================================================================\n",
      "Total params: 132\n",
      "Trainable params: 132\n",
      "Non-trainable params: 0\n",
      "_________________________________________________________________\n"
     ]
    }
   ],
   "source": [
    "model1.summary()"
   ]
  },
  {
   "cell_type": "markdown",
   "metadata": {},
   "source": [
    "# Observations:\n",
    "\n",
    "As we have binary classification, we have used binary crossentropy for loss and sigmoid for activation in output layer.\n",
    "\n",
    "Tried with relu activation in input layer and used the best activation method using grid search.\n",
    "\n",
    "Same way tried with sgd optimizer and found the best optimizer using grid search.\n",
    "\n",
    "The accuracy is around 84%\n"
   ]
  },
  {
   "cell_type": "markdown",
   "metadata": {},
   "source": [
    "# 7. Optimize the model (5 points)"
   ]
  },
  {
   "cell_type": "code",
   "execution_count": 50,
   "metadata": {},
   "outputs": [
    {
     "name": "stderr",
     "output_type": "stream",
     "text": [
      "Using TensorFlow backend.\n"
     ]
    }
   ],
   "source": [
    "from sklearn.model_selection import GridSearchCV\n",
    "from keras.models import Sequential\n",
    "from keras.layers import Dense\n",
    "from keras.wrappers.scikit_learn import KerasClassifier\n",
    "from keras.optimizers import Nadam\n",
    "from keras.optimizers import sgd\n",
    "from keras.layers import Dropout\n",
    "from keras.constraints import maxnorm"
   ]
  },
  {
   "cell_type": "markdown",
   "metadata": {},
   "source": [
    "**Lets first findout the best optimizer among 'SGD', 'RMSprop', 'Adagrad', 'Adadelta', 'Adam', 'Adamax', 'Nadam'**"
   ]
  },
  {
   "cell_type": "code",
   "execution_count": 53,
   "metadata": {},
   "outputs": [
    {
     "name": "stderr",
     "output_type": "stream",
     "text": [
      "C:\\Users\\radha\\Downloads\\Anaconda\\lib\\site-packages\\joblib\\externals\\loky\\process_executor.py:706: UserWarning: A worker stopped while some jobs were given to the executor. This can be caused by a too short worker timeout or by a memory leak.\n",
      "  \"timeout or by a memory leak.\", UserWarning\n"
     ]
    },
    {
     "name": "stdout",
     "output_type": "stream",
     "text": [
      "Best: 0.854375 using {'optimizer': 'Nadam'}\n",
      "0.816875 (0.004875) with: {'optimizer': 'SGD'}\n",
      "0.852000 (0.002500) with: {'optimizer': 'RMSprop'}\n",
      "0.817000 (0.002750) with: {'optimizer': 'Adagrad'}\n",
      "0.850000 (0.004000) with: {'optimizer': 'Adadelta'}\n",
      "0.853500 (0.007500) with: {'optimizer': 'Adam'}\n",
      "0.842625 (0.003875) with: {'optimizer': 'Adamax'}\n",
      "0.854375 (0.005375) with: {'optimizer': 'Nadam'}\n"
     ]
    }
   ],
   "source": [
    "\n",
    "# Function to create model, required for KerasClassifier\n",
    "def create_model(optimizer='adam'):\n",
    "  #Initialize Sequential model\n",
    "  model2 = Sequential()\n",
    "  \n",
    "  #Input Layer\n",
    "  model2.add(Dense(10, input_dim = 10, activation='relu'))\n",
    "  \n",
    "  #Add Dense Layer which provides 1 Outputs after applying softmax (Output Layer)\n",
    "  model2.add(Dense(1, activation='sigmoid'))\n",
    "  \n",
    "\t#Compile the model\n",
    "  model2.compile(optimizer=optimizer, loss='binary_crossentropy', metrics=['accuracy'])\n",
    "  \n",
    "  return model2\n",
    "\n",
    "model2 = KerasClassifier(build_fn=create_model, epochs=30, batch_size=35, verbose=0)\n",
    "\n",
    "\n",
    "# define the grid search parameters\n",
    "optimizer = ['SGD', 'RMSprop', 'Adagrad', 'Adadelta', 'Adam', 'Adamax', 'Nadam']\n",
    "param_grid = dict(optimizer=optimizer)\n",
    "\n",
    "grid = GridSearchCV(estimator=model2, param_grid=param_grid, n_jobs=-1, scoring=\"accuracy\", cv=2)\n",
    "grid_result = grid.fit(X_train_std, y_train)\n",
    "\n",
    "# summarize results\n",
    "print(\"Best: %f using %s\" % (grid_result.best_score_, grid_result.best_params_))\n",
    "\n",
    "means = grid_result.cv_results_['mean_test_score']\n",
    "stds = grid_result.cv_results_['std_test_score']\n",
    "params = grid_result.cv_results_['params']\n",
    "\n",
    "for mean, stdev, param in zip(means, stds, params):\n",
    "    print(\"%f (%f) with: %r\" % (mean, stdev, param))"
   ]
  },
  {
   "cell_type": "markdown",
   "metadata": {},
   "source": [
    "# Observations:\n",
    "\n",
    "The best optimizer we have got is Nadam and the accuracy is 85.43%.\n",
    "\n",
    "The accuracy have increased 1%.\n",
    "\n",
    "Note: As there is difference in multiclass representation with scikit-learn and keras, we are not going to use the categorical transformation on target variable with gridsearch. If we use the categorical transformation of target variable, we will be ending up with the error, \"ValueError: Classification metrics can't handle a mix of multilabel-indicator and binary targets\". So with gridsearchcv, we are going to use target variable without categorical transformation."
   ]
  },
  {
   "cell_type": "markdown",
   "metadata": {},
   "source": [
    "# Best learning rate"
   ]
  },
  {
   "cell_type": "code",
   "execution_count": 55,
   "metadata": {},
   "outputs": [
    {
     "name": "stdout",
     "output_type": "stream",
     "text": [
      "Best: 0.857000 using {'learn_rate': 0.01}\n",
      "0.847625 (0.002750) with: {'learn_rate': 0.001}\n",
      "0.857000 (0.004500) with: {'learn_rate': 0.01}\n",
      "0.849125 (0.004125) with: {'learn_rate': 0.1}\n",
      "0.831125 (0.011375) with: {'learn_rate': 0.2}\n",
      "0.800500 (0.002000) with: {'learn_rate': 0.3}\n"
     ]
    }
   ],
   "source": [
    "# Tune Learning Rate\n",
    "from keras.optimizers import Nadam\n",
    "\n",
    "# Function to create model, required for KerasClassifier\n",
    "def create_model(learn_rate=0.01):\n",
    "  #Initialize Sequential model\n",
    "  model4 = Sequential()\n",
    "  #Input Layer\n",
    "  model4.add(Dense(10, input_dim = 10, activation='relu'))\n",
    "  #Add Dense Layer which provides 1 Outputs after applying sigmoid (Output Layer)\n",
    "  model4.add(Dense(2, activation='sigmoid'))\n",
    "\t#Comile the model\n",
    "  optimizer = Nadam(lr=learn_rate)\n",
    "  model4.compile(optimizer = optimizer, loss = 'binary_crossentropy', metrics = ['accuracy'])\n",
    "  return model4\n",
    "\n",
    "# create model\n",
    "model4 = KerasClassifier(build_fn=create_model, epochs=30, batch_size=30, verbose=0)\n",
    "\n",
    "# define the grid search parameters\n",
    "learn_rate = [0.001, 0.01, 0.1, 0.2, 0.3]\n",
    "param_grid = dict(learn_rate=learn_rate)\n",
    "\n",
    "grid = GridSearchCV(estimator=model4, param_grid=param_grid, n_jobs=1, cv=2)\n",
    "grid_result = grid.fit(X_train_std, y_train_cat)\n",
    "\n",
    "# summarize results\n",
    "print(\"Best: %f using %s\" % (grid_result.best_score_, grid_result.best_params_))\n",
    "means = grid_result.cv_results_['mean_test_score']\n",
    "stds = grid_result.cv_results_['std_test_score']\n",
    "params = grid_result.cv_results_['params']\n",
    "for mean, stdev, param in zip(means, stds, params):\n",
    "    print(\"%f (%f) with: %r\" % (mean, stdev, param))"
   ]
  },
  {
   "cell_type": "markdown",
   "metadata": {},
   "source": [
    "# Observation:\n",
    "\n",
    "The best learning rate we got is 0.01 and the accuracy is 85.7%.\n",
    "\n",
    "There is a slight increase in accuracy"
   ]
  },
  {
   "cell_type": "code",
   "execution_count": 56,
   "metadata": {},
   "outputs": [
    {
     "name": "stdout",
     "output_type": "stream",
     "text": [
      "Best: 0.857625 using {'batch_size': 100, 'epochs': 50}\n",
      "0.856250 (0.002750) with: {'batch_size': 10, 'epochs': 10}\n",
      "0.849875 (0.001375) with: {'batch_size': 10, 'epochs': 50}\n",
      "0.851000 (0.007500) with: {'batch_size': 10, 'epochs': 100}\n",
      "0.854375 (0.004875) with: {'batch_size': 20, 'epochs': 10}\n",
      "0.852000 (0.004250) with: {'batch_size': 20, 'epochs': 50}\n",
      "0.852625 (0.003875) with: {'batch_size': 20, 'epochs': 100}\n",
      "0.855625 (0.003875) with: {'batch_size': 40, 'epochs': 10}\n",
      "0.855500 (0.007500) with: {'batch_size': 40, 'epochs': 50}\n",
      "0.851500 (0.005250) with: {'batch_size': 40, 'epochs': 100}\n",
      "0.856875 (0.004125) with: {'batch_size': 60, 'epochs': 10}\n",
      "0.855250 (0.005500) with: {'batch_size': 60, 'epochs': 50}\n",
      "0.856750 (0.005000) with: {'batch_size': 60, 'epochs': 100}\n",
      "0.855625 (0.003625) with: {'batch_size': 80, 'epochs': 10}\n",
      "0.857000 (0.006500) with: {'batch_size': 80, 'epochs': 50}\n",
      "0.852625 (0.004375) with: {'batch_size': 80, 'epochs': 100}\n",
      "0.854625 (0.003625) with: {'batch_size': 100, 'epochs': 10}\n",
      "0.857625 (0.006125) with: {'batch_size': 100, 'epochs': 50}\n",
      "0.851500 (0.006500) with: {'batch_size': 100, 'epochs': 100}\n"
     ]
    }
   ],
   "source": [
    "# Tune Batch Size and Number of Epochs\n",
    "\n",
    "# Function to create model, required for KerasClassifier\n",
    "def create_model():\n",
    "  #Initialize Sequential model\n",
    "  model3 = Sequential()\n",
    "  \n",
    "  #Input Layer\n",
    "  model3.add(Dense(30, input_dim = 10, activation='softmax'))\n",
    "  \n",
    "  #Dropout\n",
    "  model3.add(Dropout(0.2))\n",
    "  \n",
    "  #Add Dense Layer which provides 2 Outputs after applying sigmoid (Output Layer)\n",
    "  model3.add(Dense(1, activation='sigmoid'))\n",
    "  \n",
    "\t#Compile the model\n",
    "  optimizer = Nadam(lr=0.01)\n",
    "  model3.compile(optimizer=optimizer, loss='binary_crossentropy', metrics=['accuracy'])\n",
    "  \n",
    "  return model3\n",
    "\n",
    "# create model\n",
    "model3 = KerasClassifier(build_fn=create_model, verbose=0)\n",
    "\n",
    "# define the grid search parameters\n",
    "batch_size = [10, 20, 40, 60, 80, 100]\n",
    "epochs = [10, 50, 100]\n",
    "param_grid = dict(batch_size=batch_size, epochs=epochs)\n",
    "\n",
    "grid = GridSearchCV(estimator=model3, param_grid=param_grid, n_jobs=1, scoring=\"accuracy\", cv=2)\n",
    "grid_result = grid.fit(X_train_std, y_train)\n",
    "\n",
    "# summarize results\n",
    "print(\"Best: %f using %s\" % (grid_result.best_score_, grid_result.best_params_))\n",
    "means = grid_result.cv_results_['mean_test_score']\n",
    "stds = grid_result.cv_results_['std_test_score']\n",
    "params = grid_result.cv_results_['params']\n",
    "for mean, stdev, param in zip(means, stds, params):\n",
    "    print(\"%f (%f) with: %r\" % (mean, stdev, param))"
   ]
  },
  {
   "cell_type": "markdown",
   "metadata": {},
   "source": [
    "# Observations:\n",
    "\n",
    "We have got, the best batch size as 100 and number of epochs as 50 with accuracy 85.76%.\n",
    "\n",
    "**Now lets build out final model with all the best parameter we have identified**"
   ]
  },
  {
   "cell_type": "markdown",
   "metadata": {},
   "source": [
    "# Final Model after tuning..."
   ]
  },
  {
   "cell_type": "code",
   "execution_count": 59,
   "metadata": {},
   "outputs": [
    {
     "name": "stdout",
     "output_type": "stream",
     "text": [
      "Train on 8000 samples, validate on 2000 samples\n",
      "Epoch 1/50\n",
      "8000/8000 [==============================] - 3s 386us/step - loss: 0.5672 - accuracy: 0.7841 - val_loss: 0.5017 - val_accuracy: 0.7945\n",
      "Epoch 2/50\n",
      "8000/8000 [==============================] - 0s 51us/step - loss: 0.4735 - accuracy: 0.7968 - val_loss: 0.4418 - val_accuracy: 0.7945\n",
      "Epoch 3/50\n",
      "8000/8000 [==============================] - 0s 58us/step - loss: 0.4314 - accuracy: 0.8021 - val_loss: 0.4009 - val_accuracy: 0.8037\n",
      "Epoch 4/50\n",
      "8000/8000 [==============================] - 0s 55us/step - loss: 0.4022 - accuracy: 0.8344 - val_loss: 0.3803 - val_accuracy: 0.8520\n",
      "Epoch 5/50\n",
      "8000/8000 [==============================] - 0s 53us/step - loss: 0.3931 - accuracy: 0.8364 - val_loss: 0.3710 - val_accuracy: 0.8522\n",
      "Epoch 6/50\n",
      "8000/8000 [==============================] - 0s 49us/step - loss: 0.3849 - accuracy: 0.8441 - val_loss: 0.3640 - val_accuracy: 0.8565\n",
      "Epoch 7/50\n",
      "8000/8000 [==============================] - 0s 50us/step - loss: 0.3777 - accuracy: 0.8453 - val_loss: 0.3595 - val_accuracy: 0.8543\n",
      "Epoch 8/50\n",
      "8000/8000 [==============================] - 0s 51us/step - loss: 0.3727 - accuracy: 0.8452 - val_loss: 0.3603 - val_accuracy: 0.8560\n",
      "Epoch 9/50\n",
      "8000/8000 [==============================] - 0s 47us/step - loss: 0.3711 - accuracy: 0.8441 - val_loss: 0.3582 - val_accuracy: 0.8535\n",
      "Epoch 10/50\n",
      "8000/8000 [==============================] - 0s 52us/step - loss: 0.3599 - accuracy: 0.8501 - val_loss: 0.3615 - val_accuracy: 0.8495\n",
      "Epoch 11/50\n",
      "8000/8000 [==============================] - 0s 50us/step - loss: 0.3645 - accuracy: 0.8463 - val_loss: 0.3580 - val_accuracy: 0.8530\n",
      "Epoch 12/50\n",
      "8000/8000 [==============================] - 0s 51us/step - loss: 0.3613 - accuracy: 0.8507 - val_loss: 0.3557 - val_accuracy: 0.8570\n",
      "Epoch 13/50\n",
      "8000/8000 [==============================] - 0s 53us/step - loss: 0.3578 - accuracy: 0.8549 - val_loss: 0.3550 - val_accuracy: 0.8570\n",
      "Epoch 14/50\n",
      "8000/8000 [==============================] - 0s 46us/step - loss: 0.3550 - accuracy: 0.8536 - val_loss: 0.3548 - val_accuracy: 0.8595\n",
      "Epoch 15/50\n",
      "8000/8000 [==============================] - 0s 56us/step - loss: 0.3552 - accuracy: 0.8508 - val_loss: 0.3517 - val_accuracy: 0.8612\n",
      "Epoch 16/50\n",
      "8000/8000 [==============================] - 1s 67us/step - loss: 0.3555 - accuracy: 0.8557 - val_loss: 0.3538 - val_accuracy: 0.8585\n",
      "Epoch 17/50\n",
      "8000/8000 [==============================] - 1s 63us/step - loss: 0.3543 - accuracy: 0.8531 - val_loss: 0.3534 - val_accuracy: 0.8625\n",
      "Epoch 18/50\n",
      "8000/8000 [==============================] - 1s 63us/step - loss: 0.3499 - accuracy: 0.8545 - val_loss: 0.3548 - val_accuracy: 0.8600\n",
      "Epoch 19/50\n",
      "8000/8000 [==============================] - 0s 62us/step - loss: 0.3533 - accuracy: 0.8506 - val_loss: 0.3528 - val_accuracy: 0.8593\n",
      "Epoch 20/50\n",
      "8000/8000 [==============================] - 1s 64us/step - loss: 0.3517 - accuracy: 0.8522 - val_loss: 0.3528 - val_accuracy: 0.8612\n",
      "Epoch 21/50\n",
      "8000/8000 [==============================] - 0s 62us/step - loss: 0.3489 - accuracy: 0.8545 - val_loss: 0.3551 - val_accuracy: 0.8605\n",
      "Epoch 22/50\n",
      "8000/8000 [==============================] - 1s 64us/step - loss: 0.3515 - accuracy: 0.8549 - val_loss: 0.3552 - val_accuracy: 0.8572\n",
      "Epoch 23/50\n",
      "8000/8000 [==============================] - 1s 63us/step - loss: 0.3482 - accuracy: 0.8556 - val_loss: 0.3537 - val_accuracy: 0.8610\n",
      "Epoch 24/50\n",
      "8000/8000 [==============================] - 1s 67us/step - loss: 0.3525 - accuracy: 0.8550 - val_loss: 0.3540 - val_accuracy: 0.8612\n",
      "Epoch 25/50\n",
      "8000/8000 [==============================] - 1s 65us/step - loss: 0.3475 - accuracy: 0.8513 - val_loss: 0.3548 - val_accuracy: 0.8540\n",
      "Epoch 26/50\n",
      "8000/8000 [==============================] - 0s 42us/step - loss: 0.3522 - accuracy: 0.8562 - val_loss: 0.3537 - val_accuracy: 0.8610\n",
      "Epoch 27/50\n",
      "8000/8000 [==============================] - 0s 51us/step - loss: 0.3516 - accuracy: 0.8572 - val_loss: 0.3517 - val_accuracy: 0.8595\n",
      "Epoch 28/50\n",
      "8000/8000 [==============================] - 0s 50us/step - loss: 0.3461 - accuracy: 0.8547 - val_loss: 0.3538 - val_accuracy: 0.8625\n",
      "Epoch 29/50\n",
      "8000/8000 [==============================] - 0s 52us/step - loss: 0.3458 - accuracy: 0.8591 - val_loss: 0.3524 - val_accuracy: 0.8618\n",
      "Epoch 30/50\n",
      "8000/8000 [==============================] - 0s 47us/step - loss: 0.3452 - accuracy: 0.8601 - val_loss: 0.3527 - val_accuracy: 0.8610\n",
      "Epoch 31/50\n",
      "8000/8000 [==============================] - 0s 45us/step - loss: 0.3463 - accuracy: 0.8551 - val_loss: 0.3522 - val_accuracy: 0.8600\n",
      "Epoch 32/50\n",
      "8000/8000 [==============================] - 0s 47us/step - loss: 0.3464 - accuracy: 0.8537 - val_loss: 0.3532 - val_accuracy: 0.8630\n",
      "Epoch 33/50\n",
      "8000/8000 [==============================] - 0s 49us/step - loss: 0.3460 - accuracy: 0.8557 - val_loss: 0.3529 - val_accuracy: 0.8622\n",
      "Epoch 34/50\n",
      "8000/8000 [==============================] - 0s 49us/step - loss: 0.3434 - accuracy: 0.8564 - val_loss: 0.3509 - val_accuracy: 0.8635\n",
      "Epoch 35/50\n",
      "8000/8000 [==============================] - 0s 47us/step - loss: 0.3439 - accuracy: 0.8582 - val_loss: 0.3529 - val_accuracy: 0.8605\n",
      "Epoch 36/50\n",
      "8000/8000 [==============================] - 0s 42us/step - loss: 0.3443 - accuracy: 0.8576 - val_loss: 0.3498 - val_accuracy: 0.8590\n",
      "Epoch 37/50\n",
      "8000/8000 [==============================] - 0s 58us/step - loss: 0.3420 - accuracy: 0.8570 - val_loss: 0.3490 - val_accuracy: 0.8602\n",
      "Epoch 38/50\n",
      "8000/8000 [==============================] - 0s 59us/step - loss: 0.3475 - accuracy: 0.8550 - val_loss: 0.3511 - val_accuracy: 0.8595\n",
      "Epoch 39/50\n",
      "8000/8000 [==============================] - 1s 68us/step - loss: 0.3429 - accuracy: 0.8569 - val_loss: 0.3516 - val_accuracy: 0.8577\n",
      "Epoch 40/50\n",
      "8000/8000 [==============================] - 0s 56us/step - loss: 0.3446 - accuracy: 0.8563 - val_loss: 0.3511 - val_accuracy: 0.8590\n",
      "Epoch 41/50\n",
      "8000/8000 [==============================] - 0s 57us/step - loss: 0.3430 - accuracy: 0.8595 - val_loss: 0.3526 - val_accuracy: 0.8555\n",
      "Epoch 42/50\n",
      "8000/8000 [==============================] - 0s 57us/step - loss: 0.3432 - accuracy: 0.8553 - val_loss: 0.3527 - val_accuracy: 0.8605\n",
      "Epoch 43/50\n",
      "8000/8000 [==============================] - 0s 57us/step - loss: 0.3421 - accuracy: 0.8593 - val_loss: 0.3525 - val_accuracy: 0.8608\n",
      "Epoch 44/50\n",
      "8000/8000 [==============================] - 0s 53us/step - loss: 0.3462 - accuracy: 0.8582 - val_loss: 0.3530 - val_accuracy: 0.8593\n",
      "Epoch 45/50\n",
      "8000/8000 [==============================] - 0s 51us/step - loss: 0.3425 - accuracy: 0.8546 - val_loss: 0.3506 - val_accuracy: 0.8577\n",
      "Epoch 46/50\n",
      "8000/8000 [==============================] - 0s 51us/step - loss: 0.3435 - accuracy: 0.8587 - val_loss: 0.3513 - val_accuracy: 0.8562\n",
      "Epoch 47/50\n",
      "8000/8000 [==============================] - 0s 47us/step - loss: 0.3409 - accuracy: 0.8585 - val_loss: 0.3513 - val_accuracy: 0.8565\n",
      "Epoch 48/50\n",
      "8000/8000 [==============================] - ETA: 0s - loss: 0.3433 - accuracy: 0.85 - 0s 47us/step - loss: 0.3422 - accuracy: 0.8586 - val_loss: 0.3516 - val_accuracy: 0.8547\n",
      "Epoch 49/50\n",
      "8000/8000 [==============================] - 0s 42us/step - loss: 0.3392 - accuracy: 0.8596 - val_loss: 0.3528 - val_accuracy: 0.8565\n",
      "Epoch 50/50\n",
      "8000/8000 [==============================] - 0s 37us/step - loss: 0.3371 - accuracy: 0.8617 - val_loss: 0.3504 - val_accuracy: 0.8555\n"
     ]
    },
    {
     "data": {
      "text/plain": [
       "<keras.callbacks.callbacks.History at 0x2378ad4e7b8>"
      ]
     },
     "execution_count": 59,
     "metadata": {},
     "output_type": "execute_result"
    }
   ],
   "source": [
    "#Initialize Sequential model\n",
    "modelF = Sequential()\n",
    "  \n",
    "#Input Layer\n",
    "modelF.add(Dense(30, input_dim = 10, activation='softmax'))\n",
    "  \n",
    "#Dropout\n",
    "modelF.add(Dropout(0.2))\n",
    "\n",
    "#Add Dense Layer which provides 10 Outputs\n",
    "modelF.add(Dense(30, activation='softmax'))\n",
    "\n",
    "#Dropout\n",
    "modelF.add(Dropout(0.2))\n",
    "  \n",
    "#Add Dense Layer which provides 1 Output after applying sigmoid (Output Layer)\n",
    "modelF.add(Dense(2, activation='sigmoid'))\n",
    " \n",
    "#Comile the model\n",
    "optimizer = Nadam(lr=0.01)\n",
    "modelF.compile(optimizer=optimizer, loss='binary_crossentropy', metrics=['accuracy'])\n",
    " \n",
    "modelF.fit(X_train_std, y_train_cat, \n",
    "        validation_data=(X_test_std, y_test_cat), \n",
    "        epochs=50,\n",
    "        batch_size=100)"
   ]
  },
  {
   "cell_type": "markdown",
   "metadata": {},
   "source": [
    "# Review model"
   ]
  },
  {
   "cell_type": "code",
   "execution_count": 60,
   "metadata": {},
   "outputs": [
    {
     "name": "stdout",
     "output_type": "stream",
     "text": [
      "Model: \"sequential_64\"\n",
      "_________________________________________________________________\n",
      "Layer (type)                 Output Shape              Param #   \n",
      "=================================================================\n",
      "dense_128 (Dense)            (None, 30)                330       \n",
      "_________________________________________________________________\n",
      "dropout_40 (Dropout)         (None, 30)                0         \n",
      "_________________________________________________________________\n",
      "dense_129 (Dense)            (None, 30)                930       \n",
      "_________________________________________________________________\n",
      "dropout_41 (Dropout)         (None, 30)                0         \n",
      "_________________________________________________________________\n",
      "dense_130 (Dense)            (None, 2)                 62        \n",
      "=================================================================\n",
      "Total params: 1,322\n",
      "Trainable params: 1,322\n",
      "Non-trainable params: 0\n",
      "_________________________________________________________________\n"
     ]
    }
   ],
   "source": [
    "modelF.summary()"
   ]
  },
  {
   "cell_type": "markdown",
   "metadata": {},
   "source": [
    "# 9. Predict the results using 0.5 as a threshold (5 points)"
   ]
  },
  {
   "cell_type": "code",
   "execution_count": 61,
   "metadata": {},
   "outputs": [],
   "source": [
    "# make predictions for the testing set without threshold (default threshold is 0.5 for binary classification)\n",
    "y_pred = modelF.predict(X_test_std)"
   ]
  },
  {
   "cell_type": "code",
   "execution_count": 62,
   "metadata": {},
   "outputs": [
    {
     "name": "stdout",
     "output_type": "stream",
     "text": [
      "Prediction:  [[0.1295929  0.8699752 ]\n",
      " [0.9417225  0.05827078]\n",
      " [0.9520912  0.04801086]\n",
      " [0.38283974 0.61905515]\n",
      " [0.9605429  0.03955212]\n",
      " [0.98263466 0.01744935]\n",
      " [0.95826375 0.0416472 ]\n",
      " [0.98274076 0.01726231]\n",
      " [0.9777361  0.02231273]\n",
      " [0.07952449 0.9201669 ]]\n"
     ]
    }
   ],
   "source": [
    "print (\"Prediction: \", y_pred[:10])"
   ]
  },
  {
   "cell_type": "code",
   "execution_count": 63,
   "metadata": {},
   "outputs": [],
   "source": [
    "# make predictions for the testing set with threshold 0.4\n",
    "y_pred_threshold = (modelF.predict_proba(X_test_std) >= 0.5)"
   ]
  },
  {
   "cell_type": "code",
   "execution_count": 64,
   "metadata": {},
   "outputs": [
    {
     "name": "stdout",
     "output_type": "stream",
     "text": [
      "Prediction:  [[False  True]\n",
      " [ True False]\n",
      " [ True False]\n",
      " [False  True]\n",
      " [ True False]\n",
      " [ True False]\n",
      " [ True False]\n",
      " [ True False]\n",
      " [ True False]\n",
      " [False  True]]\n"
     ]
    }
   ],
   "source": [
    "print (\"Prediction: \", y_pred_threshold[:10])"
   ]
  },
  {
   "cell_type": "markdown",
   "metadata": {},
   "source": [
    "# Observations:\n",
    "\n",
    "We have predicted the results with and without specifying the threshold 0.5.\n",
    "\n",
    "Lets check the accuracy score and confusion matrix for the same.\n"
   ]
  },
  {
   "cell_type": "markdown",
   "metadata": {},
   "source": [
    "# 10. Print the Accuracy score and confusion matrix (2.5 points)"
   ]
  },
  {
   "cell_type": "code",
   "execution_count": 65,
   "metadata": {},
   "outputs": [
    {
     "name": "stdout",
     "output_type": "stream",
     "text": [
      "Accuracy score for predictions with no specified thershold:  0.8555\n",
      "Accuracy score for predictions with specified threshold 0.5:  0.8555\n"
     ]
    }
   ],
   "source": [
    "# Accuracy score for predictions without threshold\n",
    "\n",
    "from sklearn import metrics\n",
    "print(\"Accuracy score for predictions with no specified thershold: \", metrics.accuracy_score(y_test_cat, y_pred.round()))\n",
    "print(\"Accuracy score for predictions with specified threshold 0.5: \", metrics.accuracy_score(y_test_cat, y_pred_threshold.round()))"
   ]
  },
  {
   "cell_type": "code",
   "execution_count": 66,
   "metadata": {},
   "outputs": [
    {
     "name": "stdout",
     "output_type": "stream",
     "text": [
      "Confusion Matrix for predictions with no specified threshold\n"
     ]
    },
    {
     "data": {
      "text/html": [
       "<div>\n",
       "<style scoped>\n",
       "    .dataframe tbody tr th:only-of-type {\n",
       "        vertical-align: middle;\n",
       "    }\n",
       "\n",
       "    .dataframe tbody tr th {\n",
       "        vertical-align: top;\n",
       "    }\n",
       "\n",
       "    .dataframe thead th {\n",
       "        text-align: right;\n",
       "    }\n",
       "</style>\n",
       "<table border=\"1\" class=\"dataframe\">\n",
       "  <thead>\n",
       "    <tr style=\"text-align: right;\">\n",
       "      <th></th>\n",
       "      <th>pred_neg</th>\n",
       "      <th>pred_pos</th>\n",
       "    </tr>\n",
       "  </thead>\n",
       "  <tbody>\n",
       "    <tr>\n",
       "      <th>neg</th>\n",
       "      <td>1521</td>\n",
       "      <td>68</td>\n",
       "    </tr>\n",
       "    <tr>\n",
       "      <th>pos</th>\n",
       "      <td>221</td>\n",
       "      <td>190</td>\n",
       "    </tr>\n",
       "  </tbody>\n",
       "</table>\n",
       "</div>"
      ],
      "text/plain": [
       "     pred_neg  pred_pos\n",
       "neg      1521        68\n",
       "pos       221       190"
      ]
     },
     "execution_count": 66,
     "metadata": {},
     "output_type": "execute_result"
    }
   ],
   "source": [
    "print (\"Confusion Matrix for predictions with no specified threshold\")\n",
    "pd.DataFrame(metrics.confusion_matrix(y_test_cat.argmax(axis=1), y_pred.argmax(axis=1)),\n",
    "                 columns=['pred_neg', 'pred_pos'], index=['neg', 'pos'])"
   ]
  },
  {
   "cell_type": "code",
   "execution_count": 67,
   "metadata": {},
   "outputs": [
    {
     "name": "stdout",
     "output_type": "stream",
     "text": [
      "Confusion Matrix for predictions with specified threshold 0.5\n"
     ]
    },
    {
     "data": {
      "text/html": [
       "<div>\n",
       "<style scoped>\n",
       "    .dataframe tbody tr th:only-of-type {\n",
       "        vertical-align: middle;\n",
       "    }\n",
       "\n",
       "    .dataframe tbody tr th {\n",
       "        vertical-align: top;\n",
       "    }\n",
       "\n",
       "    .dataframe thead th {\n",
       "        text-align: right;\n",
       "    }\n",
       "</style>\n",
       "<table border=\"1\" class=\"dataframe\">\n",
       "  <thead>\n",
       "    <tr style=\"text-align: right;\">\n",
       "      <th></th>\n",
       "      <th>pred_neg</th>\n",
       "      <th>pred_pos</th>\n",
       "    </tr>\n",
       "  </thead>\n",
       "  <tbody>\n",
       "    <tr>\n",
       "      <th>neg</th>\n",
       "      <td>1521</td>\n",
       "      <td>68</td>\n",
       "    </tr>\n",
       "    <tr>\n",
       "      <th>pos</th>\n",
       "      <td>221</td>\n",
       "      <td>190</td>\n",
       "    </tr>\n",
       "  </tbody>\n",
       "</table>\n",
       "</div>"
      ],
      "text/plain": [
       "     pred_neg  pred_pos\n",
       "neg      1521        68\n",
       "pos       221       190"
      ]
     },
     "execution_count": 67,
     "metadata": {},
     "output_type": "execute_result"
    }
   ],
   "source": [
    "print (\"Confusion Matrix for predictions with specified threshold 0.5\")\n",
    "pd.DataFrame(metrics.confusion_matrix(y_test_cat.argmax(axis=1), y_pred_threshold.argmax(axis=1)),\n",
    "                 columns=['pred_neg', 'pred_pos'], index=['neg', 'pos'])"
   ]
  },
  {
   "cell_type": "code",
   "execution_count": 68,
   "metadata": {},
   "outputs": [
    {
     "name": "stdout",
     "output_type": "stream",
     "text": [
      "Classification Report for predictions with no specified threshold\n",
      "              precision    recall  f1-score   support\n",
      "\n",
      "           0       0.87      0.96      0.91      1589\n",
      "           1       0.74      0.46      0.57       411\n",
      "\n",
      "   micro avg       0.86      0.86      0.86      2000\n",
      "   macro avg       0.80      0.71      0.74      2000\n",
      "weighted avg       0.85      0.86      0.84      2000\n",
      " samples avg       0.86      0.86      0.86      2000\n",
      "\n"
     ]
    }
   ],
   "source": [
    "from sklearn.metrics import classification_report\n",
    "print (\"Classification Report for predictions with no specified threshold\")\n",
    "print(classification_report(y_test_cat, y_pred.round()))"
   ]
  },
  {
   "cell_type": "code",
   "execution_count": 69,
   "metadata": {},
   "outputs": [
    {
     "name": "stdout",
     "output_type": "stream",
     "text": [
      "Classification Report for predictions with specified threshold 0.5\n",
      "              precision    recall  f1-score   support\n",
      "\n",
      "           0       0.87      0.96      0.91      1589\n",
      "           1       0.74      0.46      0.57       411\n",
      "\n",
      "   micro avg       0.86      0.86      0.86      2000\n",
      "   macro avg       0.80      0.71      0.74      2000\n",
      "weighted avg       0.85      0.86      0.84      2000\n",
      " samples avg       0.86      0.86      0.86      2000\n",
      "\n"
     ]
    }
   ],
   "source": [
    "from sklearn.metrics import classification_report\n",
    "print (\"Classification Report for predictions with specified threshold 0.5\")\n",
    "print(classification_report(y_test_cat, y_pred_threshold))"
   ]
  },
  {
   "cell_type": "markdown",
   "metadata": {},
   "source": [
    "# Observations:\n",
    "\n",
    "For binary classification by default the threshold is 0.5. So there is no difference in the accuracy score or classification report with and without specifying the 0.5 threshold.\n"
   ]
  },
  {
   "cell_type": "code",
   "execution_count": null,
   "metadata": {},
   "outputs": [],
   "source": []
  },
  {
   "cell_type": "code",
   "execution_count": null,
   "metadata": {},
   "outputs": [],
   "source": []
  }
 ],
 "metadata": {
  "kernelspec": {
   "display_name": "Python 3",
   "language": "python",
   "name": "python3"
  },
  "language_info": {
   "codemirror_mode": {
    "name": "ipython",
    "version": 3
   },
   "file_extension": ".py",
   "mimetype": "text/x-python",
   "name": "python",
   "nbconvert_exporter": "python",
   "pygments_lexer": "ipython3",
   "version": "3.7.3"
  }
 },
 "nbformat": 4,
 "nbformat_minor": 2
}
